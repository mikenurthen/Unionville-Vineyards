{
 "cells": [
  {
   "cell_type": "code",
   "execution_count": 1,
   "id": "cd1eb64d-fba1-4561-9141-eae70e795b56",
   "metadata": {},
   "outputs": [],
   "source": [
    "# Dependencies and Setup\n",
    "import pandas as pd\n",
    "import numpy as np\n",
    "from pathlib import Path\n",
    "# Enable future behavior warning enforcement\n",
    "pd.set_option('future.no_silent_downcasting', True)\n",
    "\n",
    "# Objective: How many glasses, flights, and tastings were sold at both Ferry Market Wine Bar and Unionville Tasting Room\n",
    "# YTD compared to the same date range in 2024, 2023, 2022, 2021\n",
    "\n",
    "# Load the exported Unionville Vineyards order history from Shopify e-commerce platform\n",
    "# orders_export_1 contains order numbers 138209 (6/30/25 21:05) - 112585 (9/7/23 17:48)\n",
    "# orders_export_2 contains order numbers 112584 (9/7/23 17:10) - 85435 (10/8/21 18:39)\n",
    "# orders_export_3 contains order numbers 85434 (10/8/21 18:30) - 59033 (2/9/20 18:35)\n",
    "# orders_export_4 contains order numbers 59032 (2/9/20 18:13) - 30933 (9/15/18 14:14)\n",
    "# orders_export_5 contains order numbers 30932 (9/15/18 14:04) - #1-1655 (9/28/14 15:47)\n",
    "# orders_export_6 contains order numbers #1-1654 (9/28/14 15:44) - #1-1001 (5/1/14 16:36)\n",
    "\n",
    "orders_export_1 = Path('Resources/orders_export_1.csv')\n",
    "orders_export_2 = Path('Resources/orders_export_2.csv')\n",
    "orders_export_3 = Path('Resources/orders_export_3.csv')\n",
    "\n",
    "# Below csv files not needed\n",
    "# orders_export_4 = Path('Resources/orders_export_4.csv')\n",
    "# orders_export_5 = Path('Resources/orders_export_5.csv')\n",
    "# orders_export_6 = Path('Resources/orders_export_6.csv')"
   ]
  },
  {
   "cell_type": "code",
   "execution_count": 2,
   "id": "bffaef31-9804-49fb-926f-9974f081fe9e",
   "metadata": {},
   "outputs": [],
   "source": [
    "# Read in Files to Load\n",
    "# Used df.info() to see which DataFrame column number Pandas is referring to when giving the mixed dtypes error.\n",
    "\n",
    "# Used 'dtype' parameter in pd.read_csv. Specify data types when dealing with columns\n",
    "# containing mixed data, or when we want to optimize memory usage for specific columns.\n",
    "# In this case, we are dealing with columns of mixed data.\n",
    "\n",
    "# Columns (27,28,30,33,37,38,40,44,56,66,68,76) have mixed types. Specify dtype option on import or set low_memory=False.\n",
    "# 27  Billing Address2             133 non-null    object \n",
    "# 28  Billing Company              74 non-null     object \n",
    "# 30  Billing Zip                  2644 non-null   object \n",
    "# 33  Billing Phone                2085 non-null   object \n",
    "# 37  Shipping Address2            80 non-null     object \n",
    "# 38  Shipping Company             87 non-null     object \n",
    "# 40  Shipping Zip                 1819 non-null   object \n",
    "# 44  Notes                        45 non-null     object \n",
    "# 56  Tags                         1598 non-null   object \n",
    "# 66  Tax 4 Name                   3 non-null      object \n",
    "# 68  Tax 5 Name                   2 non-null      object \n",
    "# 76  Payment Terms Name           60 non-null     object \n",
    "\n",
    "a_dtype_dict = {\n",
    "    'Billing Address2': object,\n",
    "    'Billing Company': object,\n",
    "    'Billing Zip': object,\n",
    "    'Billing Phone': object,\n",
    "    'Shipping Address2': object,\n",
    "    'Shipping Company': object,\n",
    "    'Shipping Zip': object,\n",
    "    'Notes': object,\n",
    "    'Tags': object,\n",
    "    'Tax 4 Name': object,\n",
    "    'Tax 5 Name': object,\n",
    "    'Payment Terms Name': object\n",
    "}\n",
    "a_df = pd.read_csv(orders_export_1, dtype = a_dtype_dict)\n",
    "\n",
    "# b_df\n",
    "# Columns (28,30,37,38,40,44,45,62,64) have mixed types. Specify dtype option on import or set low_memory=False.\n",
    "# 28  Billing Company              55 non-null     object \n",
    "# 30  Billing Zip                  2476 non-null   object \n",
    "# 37  Shipping Address2            153 non-null    object \n",
    "# 38  Shipping Company             89 non-null     object \n",
    "# 40  Shipping Zip                 2056 non-null   object  \n",
    "# 44  Notes                        88 non-null     object \n",
    "# 45  Note Attributes              6 non-null      object \n",
    "# 62  Tax 2 Name                   85 non-null     object \n",
    "# 64  Tax 3 Name                   51 non-null     object\n",
    "\n",
    "b_dtype_dict = {\n",
    "    'Billing Company': object, \n",
    "    'Billing Zip': object,\n",
    "    'Shipping Address2': object,\n",
    "    'Shipping Company': object,\n",
    "    'Shipping Zip': object,\n",
    "    'Notes': object,\n",
    "    'Note Attributes': object,\n",
    "    'Tax 2 Name': object,\n",
    "    'Tax 3 Name': object\n",
    "}\n",
    "b_df = pd.read_csv(orders_export_2, dtype = b_dtype_dict)\n",
    "\n",
    "# c_df\n",
    "# Columns (45,46) have mixed types. Specify dtype option on import or set low_memory=False.\n",
    "# 45  Note Attributes              6 non-null      object \n",
    "# 46  Cancelled at                 2 non-null      object\n",
    "\n",
    "c_dtype_dict = {\n",
    "    'Note Attributes': object,\n",
    "    'Cancelled at': object\n",
    "}\n",
    "c_df = pd.read_csv(orders_export_3, dtype = c_dtype_dict)\n",
    "\n",
    "# d_df\n",
    "# Columns (40,45,64) have mixed types. Specify dtype option on import or set low_memory=False.\n",
    "# 40  Shipping Zip                 2175 non-null   object \n",
    "# 45  Note Attributes              94 non-null     object \n",
    "# 64  Tax 3 Name                   60 non-null     object\n",
    "\n",
    "# d_dtype_dict = {\n",
    "#     'Shipping Zip': object,\n",
    "#     'Note Attributes': object,\n",
    "#     'Tax 3 Name': object\n",
    "# }\n",
    "# d_df = pd.read_csv(orders_export_4, dtype = d_dtype_dict)\n",
    "\n",
    "# e_df\n",
    "# Columns (40,45,46,56,62,64) have mixed types. Specify dtype option on import or set low_memory=False.\n",
    "# 40  Shipping Zip                 865 non-null    object \n",
    "# 45  Note Attributes              2 non-null      object \n",
    "# 46  Cancelled at                 4 non-null      object \n",
    "# 56  Tags                         404 non-null    object \n",
    "# 62  Tax 2 Name                   17 non-null     object \n",
    "# 64  Tax 3 Name                   4 non-null      object\n",
    "\n",
    "# e_dtype_dict = {\n",
    "#     'Shipping Zip': object,\n",
    "#     'Note Attributes': object,\n",
    "#     'Cancelled at': object,\n",
    "#     'Tags': object,\n",
    "#     'Tax 2 Name': object,\n",
    "#     'Tax 3 Name': object\n",
    "# }\n",
    "# e_df = pd.read_csv(orders_export_5, dtype = e_dtype_dict)\n",
    "\n",
    "# f_df = pd.read_csv(orders_export_6)"
   ]
  },
  {
   "cell_type": "code",
   "execution_count": 3,
   "id": "0a8bcaac-2d2e-4e0c-93ea-1e010459fa37",
   "metadata": {},
   "outputs": [],
   "source": [
    "# a_df.info()\n",
    "# for i, col in enumerate(a_df.columns):\n",
    "#     print(f\"{i}: {col}\")"
   ]
  },
  {
   "cell_type": "code",
   "execution_count": 4,
   "id": "b8cf2eed-83ea-4d61-9949-57bbc1dd3747",
   "metadata": {},
   "outputs": [],
   "source": [
    "# Concatenate into single DataFrame\n",
    "\n",
    "UV_Order_History_df = pd.concat([a_df, b_df, c_df], axis=0)"
   ]
  },
  {
   "cell_type": "code",
   "execution_count": 5,
   "id": "fddf7a33-21c9-425f-8a64-e5ee43221d0e",
   "metadata": {},
   "outputs": [],
   "source": [
    "UV_Order_History_df.to_csv('Output_Files/UV_Order_History_Raw.csv', index=False)"
   ]
  },
  {
   "cell_type": "code",
   "execution_count": 6,
   "id": "1476b3ec-af6e-4ef2-9331-db31ec6f98b2",
   "metadata": {},
   "outputs": [
    {
     "name": "stdout",
     "output_type": "stream",
     "text": [
      "Number of columns: 79\n"
     ]
    }
   ],
   "source": [
    "# Count number of columns\n",
    "print(f\"Number of columns: {len(UV_Order_History_df.columns)}\")"
   ]
  },
  {
   "cell_type": "code",
   "execution_count": 7,
   "id": "3459a72a-0bdd-4c3a-88f1-97359ad26f8b",
   "metadata": {
    "scrolled": true
   },
   "outputs": [
    {
     "data": {
      "text/html": [
       "<div>\n",
       "<style scoped>\n",
       "    .dataframe tbody tr th:only-of-type {\n",
       "        vertical-align: middle;\n",
       "    }\n",
       "\n",
       "    .dataframe tbody tr th {\n",
       "        vertical-align: top;\n",
       "    }\n",
       "\n",
       "    .dataframe thead th {\n",
       "        text-align: right;\n",
       "    }\n",
       "</style>\n",
       "<table border=\"1\" class=\"dataframe\">\n",
       "  <thead>\n",
       "    <tr style=\"text-align: right;\">\n",
       "      <th></th>\n",
       "      <th>Order Number</th>\n",
       "      <th>Paid At</th>\n",
       "      <th>Fulfilled At</th>\n",
       "      <th>Subtotal</th>\n",
       "      <th>Shipping</th>\n",
       "      <th>Taxes</th>\n",
       "      <th>Total</th>\n",
       "      <th>Discount Code</th>\n",
       "      <th>Discount Amount</th>\n",
       "      <th>Item Qty</th>\n",
       "      <th>Item Name</th>\n",
       "      <th>Item Price</th>\n",
       "      <th>Item SKU</th>\n",
       "      <th>Location</th>\n",
       "      <th>Device ID</th>\n",
       "      <th>Item Discount</th>\n",
       "      <th>Tax 1 Name</th>\n",
       "      <th>Tax 1 Value</th>\n",
       "      <th>Tax 2 Name</th>\n",
       "      <th>Tax 2 Value</th>\n",
       "    </tr>\n",
       "  </thead>\n",
       "  <tbody>\n",
       "    <tr>\n",
       "      <th>0</th>\n",
       "      <td>#138209</td>\n",
       "      <td>6/30/25 21:05</td>\n",
       "      <td>NaN</td>\n",
       "      <td>49.95</td>\n",
       "      <td>0.0</td>\n",
       "      <td>3.31</td>\n",
       "      <td>53.26</td>\n",
       "      <td>NaN</td>\n",
       "      <td>0.00</td>\n",
       "      <td>1</td>\n",
       "      <td>2022 Sourland Ridge Red</td>\n",
       "      <td>49.95</td>\n",
       "      <td>NaN</td>\n",
       "      <td>NaN</td>\n",
       "      <td>NaN</td>\n",
       "      <td>0.0</td>\n",
       "      <td>New Jersey State Tax 6.625%</td>\n",
       "      <td>3.31</td>\n",
       "      <td>NaN</td>\n",
       "      <td>NaN</td>\n",
       "    </tr>\n",
       "    <tr>\n",
       "      <th>1</th>\n",
       "      <td>#138208</td>\n",
       "      <td>6/30/25 16:32</td>\n",
       "      <td>6/30/25 16:32</td>\n",
       "      <td>67.95</td>\n",
       "      <td>0.0</td>\n",
       "      <td>4.50</td>\n",
       "      <td>72.45</td>\n",
       "      <td>NaN</td>\n",
       "      <td>0.00</td>\n",
       "      <td>1</td>\n",
       "      <td>2022 Pheasant Hill Pinot Noir</td>\n",
       "      <td>49.95</td>\n",
       "      <td>NaN</td>\n",
       "      <td>Unionville Vineyards</td>\n",
       "      <td>44.0</td>\n",
       "      <td>0.0</td>\n",
       "      <td>New Jersey State Tax 6.625%</td>\n",
       "      <td>4.50</td>\n",
       "      <td>NaN</td>\n",
       "      <td>NaN</td>\n",
       "    </tr>\n",
       "    <tr>\n",
       "      <th>2</th>\n",
       "      <td>#138208</td>\n",
       "      <td>NaN</td>\n",
       "      <td>NaN</td>\n",
       "      <td>NaN</td>\n",
       "      <td>NaN</td>\n",
       "      <td>NaN</td>\n",
       "      <td>NaN</td>\n",
       "      <td>NaN</td>\n",
       "      <td>NaN</td>\n",
       "      <td>1</td>\n",
       "      <td>Wine Tastings - NJ Flight / 90 m</td>\n",
       "      <td>18.00</td>\n",
       "      <td>NaN</td>\n",
       "      <td>NaN</td>\n",
       "      <td>NaN</td>\n",
       "      <td>0.0</td>\n",
       "      <td>NaN</td>\n",
       "      <td>NaN</td>\n",
       "      <td>NaN</td>\n",
       "      <td>NaN</td>\n",
       "    </tr>\n",
       "    <tr>\n",
       "      <th>3</th>\n",
       "      <td>#138207</td>\n",
       "      <td>6/30/25 16:03</td>\n",
       "      <td>6/30/25 16:03</td>\n",
       "      <td>85.41</td>\n",
       "      <td>0.0</td>\n",
       "      <td>5.31</td>\n",
       "      <td>90.72</td>\n",
       "      <td>Wedding</td>\n",
       "      <td>9.49</td>\n",
       "      <td>1</td>\n",
       "      <td>2023 Silver Lining Cabernet Franc</td>\n",
       "      <td>29.95</td>\n",
       "      <td>NaN</td>\n",
       "      <td>Unionville Vineyards</td>\n",
       "      <td>44.0</td>\n",
       "      <td>0.0</td>\n",
       "      <td>New Jersey State Tax 6.625%</td>\n",
       "      <td>5.31</td>\n",
       "      <td>NaN</td>\n",
       "      <td>NaN</td>\n",
       "    </tr>\n",
       "    <tr>\n",
       "      <th>4</th>\n",
       "      <td>#138207</td>\n",
       "      <td>NaN</td>\n",
       "      <td>NaN</td>\n",
       "      <td>NaN</td>\n",
       "      <td>NaN</td>\n",
       "      <td>NaN</td>\n",
       "      <td>NaN</td>\n",
       "      <td>NaN</td>\n",
       "      <td>NaN</td>\n",
       "      <td>1</td>\n",
       "      <td>2022 Estate Blush</td>\n",
       "      <td>19.95</td>\n",
       "      <td>PINK:FOF</td>\n",
       "      <td>NaN</td>\n",
       "      <td>NaN</td>\n",
       "      <td>0.0</td>\n",
       "      <td>NaN</td>\n",
       "      <td>NaN</td>\n",
       "      <td>NaN</td>\n",
       "      <td>NaN</td>\n",
       "    </tr>\n",
       "    <tr>\n",
       "      <th>...</th>\n",
       "      <td>...</td>\n",
       "      <td>...</td>\n",
       "      <td>...</td>\n",
       "      <td>...</td>\n",
       "      <td>...</td>\n",
       "      <td>...</td>\n",
       "      <td>...</td>\n",
       "      <td>...</td>\n",
       "      <td>...</td>\n",
       "      <td>...</td>\n",
       "      <td>...</td>\n",
       "      <td>...</td>\n",
       "      <td>...</td>\n",
       "      <td>...</td>\n",
       "      <td>...</td>\n",
       "      <td>...</td>\n",
       "      <td>...</td>\n",
       "      <td>...</td>\n",
       "      <td>...</td>\n",
       "      <td>...</td>\n",
       "    </tr>\n",
       "    <tr>\n",
       "      <th>44053</th>\n",
       "      <td>#59034</td>\n",
       "      <td>NaN</td>\n",
       "      <td>NaN</td>\n",
       "      <td>NaN</td>\n",
       "      <td>NaN</td>\n",
       "      <td>NaN</td>\n",
       "      <td>NaN</td>\n",
       "      <td>NaN</td>\n",
       "      <td>NaN</td>\n",
       "      <td>2</td>\n",
       "      <td>2017 Pinot Noir</td>\n",
       "      <td>29.95</td>\n",
       "      <td>RED:Pinot Noir 2017</td>\n",
       "      <td>NaN</td>\n",
       "      <td>NaN</td>\n",
       "      <td>0.0</td>\n",
       "      <td>NaN</td>\n",
       "      <td>NaN</td>\n",
       "      <td>NaN</td>\n",
       "      <td>NaN</td>\n",
       "    </tr>\n",
       "    <tr>\n",
       "      <th>44054</th>\n",
       "      <td>#59034</td>\n",
       "      <td>NaN</td>\n",
       "      <td>NaN</td>\n",
       "      <td>NaN</td>\n",
       "      <td>NaN</td>\n",
       "      <td>NaN</td>\n",
       "      <td>NaN</td>\n",
       "      <td>NaN</td>\n",
       "      <td>NaN</td>\n",
       "      <td>1</td>\n",
       "      <td>Vat #25 Port Wine</td>\n",
       "      <td>33.95</td>\n",
       "      <td>RED:Vat 25</td>\n",
       "      <td>NaN</td>\n",
       "      <td>NaN</td>\n",
       "      <td>0.0</td>\n",
       "      <td>NaN</td>\n",
       "      <td>NaN</td>\n",
       "      <td>NaN</td>\n",
       "      <td>NaN</td>\n",
       "    </tr>\n",
       "    <tr>\n",
       "      <th>44055</th>\n",
       "      <td>#59034</td>\n",
       "      <td>NaN</td>\n",
       "      <td>NaN</td>\n",
       "      <td>NaN</td>\n",
       "      <td>NaN</td>\n",
       "      <td>NaN</td>\n",
       "      <td>NaN</td>\n",
       "      <td>NaN</td>\n",
       "      <td>NaN</td>\n",
       "      <td>1</td>\n",
       "      <td>2016 MRV Chardonnay</td>\n",
       "      <td>34.95</td>\n",
       "      <td>WH:MR Chardonnay 2016</td>\n",
       "      <td>NaN</td>\n",
       "      <td>NaN</td>\n",
       "      <td>0.0</td>\n",
       "      <td>NaN</td>\n",
       "      <td>NaN</td>\n",
       "      <td>NaN</td>\n",
       "      <td>NaN</td>\n",
       "    </tr>\n",
       "    <tr>\n",
       "      <th>44056</th>\n",
       "      <td>#59034</td>\n",
       "      <td>NaN</td>\n",
       "      <td>NaN</td>\n",
       "      <td>NaN</td>\n",
       "      <td>NaN</td>\n",
       "      <td>NaN</td>\n",
       "      <td>NaN</td>\n",
       "      <td>NaN</td>\n",
       "      <td>NaN</td>\n",
       "      <td>1</td>\n",
       "      <td>2017 Hunterdon Mistral Blanc</td>\n",
       "      <td>26.95</td>\n",
       "      <td>WH:Mistral Blanc 2017</td>\n",
       "      <td>NaN</td>\n",
       "      <td>NaN</td>\n",
       "      <td>0.0</td>\n",
       "      <td>NaN</td>\n",
       "      <td>NaN</td>\n",
       "      <td>NaN</td>\n",
       "      <td>NaN</td>\n",
       "    </tr>\n",
       "    <tr>\n",
       "      <th>44057</th>\n",
       "      <td>#59033</td>\n",
       "      <td>2020-02-09 18:35:33 -0500</td>\n",
       "      <td>2020-02-09 18:35:33 -0500</td>\n",
       "      <td>11.00</td>\n",
       "      <td>0.0</td>\n",
       "      <td>0.66</td>\n",
       "      <td>11.66</td>\n",
       "      <td>NaN</td>\n",
       "      <td>0.00</td>\n",
       "      <td>1</td>\n",
       "      <td>Glass of Wine - Glass of Wine- $11</td>\n",
       "      <td>11.00</td>\n",
       "      <td>Glass of Wine-11</td>\n",
       "      <td>Ferry Market</td>\n",
       "      <td>10.0</td>\n",
       "      <td>0.0</td>\n",
       "      <td>PA State Tax 6%</td>\n",
       "      <td>0.66</td>\n",
       "      <td>NaN</td>\n",
       "      <td>NaN</td>\n",
       "    </tr>\n",
       "  </tbody>\n",
       "</table>\n",
       "<p>127108 rows × 20 columns</p>\n",
       "</div>"
      ],
      "text/plain": [
       "      Order Number                    Paid At               Fulfilled At  \\\n",
       "0          #138209              6/30/25 21:05                        NaN   \n",
       "1          #138208              6/30/25 16:32              6/30/25 16:32   \n",
       "2          #138208                        NaN                        NaN   \n",
       "3          #138207              6/30/25 16:03              6/30/25 16:03   \n",
       "4          #138207                        NaN                        NaN   \n",
       "...            ...                        ...                        ...   \n",
       "44053       #59034                        NaN                        NaN   \n",
       "44054       #59034                        NaN                        NaN   \n",
       "44055       #59034                        NaN                        NaN   \n",
       "44056       #59034                        NaN                        NaN   \n",
       "44057       #59033  2020-02-09 18:35:33 -0500  2020-02-09 18:35:33 -0500   \n",
       "\n",
       "       Subtotal  Shipping  Taxes  Total Discount Code  Discount Amount  \\\n",
       "0         49.95       0.0   3.31  53.26           NaN             0.00   \n",
       "1         67.95       0.0   4.50  72.45           NaN             0.00   \n",
       "2           NaN       NaN    NaN    NaN           NaN              NaN   \n",
       "3         85.41       0.0   5.31  90.72       Wedding             9.49   \n",
       "4           NaN       NaN    NaN    NaN           NaN              NaN   \n",
       "...         ...       ...    ...    ...           ...              ...   \n",
       "44053       NaN       NaN    NaN    NaN           NaN              NaN   \n",
       "44054       NaN       NaN    NaN    NaN           NaN              NaN   \n",
       "44055       NaN       NaN    NaN    NaN           NaN              NaN   \n",
       "44056       NaN       NaN    NaN    NaN           NaN              NaN   \n",
       "44057     11.00       0.0   0.66  11.66           NaN             0.00   \n",
       "\n",
       "       Item Qty                           Item Name  Item Price  \\\n",
       "0             1             2022 Sourland Ridge Red       49.95   \n",
       "1             1       2022 Pheasant Hill Pinot Noir       49.95   \n",
       "2             1    Wine Tastings - NJ Flight / 90 m       18.00   \n",
       "3             1   2023 Silver Lining Cabernet Franc       29.95   \n",
       "4             1                   2022 Estate Blush       19.95   \n",
       "...         ...                                 ...         ...   \n",
       "44053         2                     2017 Pinot Noir       29.95   \n",
       "44054         1                   Vat #25 Port Wine       33.95   \n",
       "44055         1                 2016 MRV Chardonnay       34.95   \n",
       "44056         1        2017 Hunterdon Mistral Blanc       26.95   \n",
       "44057         1  Glass of Wine - Glass of Wine- $11       11.00   \n",
       "\n",
       "                    Item SKU              Location  Device ID  Item Discount  \\\n",
       "0                        NaN                   NaN        NaN            0.0   \n",
       "1                        NaN  Unionville Vineyards       44.0            0.0   \n",
       "2                        NaN                   NaN        NaN            0.0   \n",
       "3                        NaN  Unionville Vineyards       44.0            0.0   \n",
       "4                   PINK:FOF                   NaN        NaN            0.0   \n",
       "...                      ...                   ...        ...            ...   \n",
       "44053    RED:Pinot Noir 2017                   NaN        NaN            0.0   \n",
       "44054             RED:Vat 25                   NaN        NaN            0.0   \n",
       "44055  WH:MR Chardonnay 2016                   NaN        NaN            0.0   \n",
       "44056  WH:Mistral Blanc 2017                   NaN        NaN            0.0   \n",
       "44057       Glass of Wine-11          Ferry Market       10.0            0.0   \n",
       "\n",
       "                        Tax 1 Name  Tax 1 Value Tax 2 Name  Tax 2 Value  \n",
       "0      New Jersey State Tax 6.625%         3.31        NaN          NaN  \n",
       "1      New Jersey State Tax 6.625%         4.50        NaN          NaN  \n",
       "2                              NaN          NaN        NaN          NaN  \n",
       "3      New Jersey State Tax 6.625%         5.31        NaN          NaN  \n",
       "4                              NaN          NaN        NaN          NaN  \n",
       "...                            ...          ...        ...          ...  \n",
       "44053                          NaN          NaN        NaN          NaN  \n",
       "44054                          NaN          NaN        NaN          NaN  \n",
       "44055                          NaN          NaN        NaN          NaN  \n",
       "44056                          NaN          NaN        NaN          NaN  \n",
       "44057              PA State Tax 6%         0.66        NaN          NaN  \n",
       "\n",
       "[127108 rows x 20 columns]"
      ]
     },
     "execution_count": 7,
     "metadata": {},
     "output_type": "execute_result"
    }
   ],
   "source": [
    "# Select columns of interest while using the .rename() method to rename column labels\n",
    "# , 'Tax 3 Name', 'Tax 3 Value', 'Tax 4 Name', 'Tax 4 Value', 'Tax 5 Name', 'Tax 5 Value'\n",
    "\n",
    "UV_Order_History_df = UV_Order_History_df[\n",
    "['Name', 'Paid at', 'Fulfilled at',  'Subtotal', 'Shipping', 'Taxes', 'Total',\n",
    " 'Discount Code', 'Discount Amount', 'Lineitem quantity',\n",
    " 'Lineitem name', 'Lineitem price', 'Lineitem sku', 'Location',\n",
    " 'Device ID', 'Lineitem discount', 'Tax 1 Name', 'Tax 1 Value',\n",
    " 'Tax 2 Name', 'Tax 2 Value']\n",
    "].rename(columns={\n",
    "    'Name': 'Order Number', 'Paid at': 'Paid At', 'Fulfilled at': 'Fulfilled At', 'Lineitem quantity': 'Item Qty',\n",
    "    'Lineitem name': 'Item Name', 'Lineitem price': 'Item Price',\n",
    "    'Lineitem sku': 'Item SKU', 'Lineitem discount': 'Item Discount'})\n",
    "\n",
    "UV_Order_History_df"
   ]
  },
  {
   "cell_type": "code",
   "execution_count": 8,
   "id": "70fbcabf-9c73-484d-9579-651d9f2c9eb1",
   "metadata": {},
   "outputs": [
    {
     "name": "stdout",
     "output_type": "stream",
     "text": [
      "Number of columns: 20\n",
      "['Order Number', 'Paid At', 'Fulfilled At', 'Subtotal', 'Shipping', 'Taxes', 'Total', 'Discount Code', 'Discount Amount', 'Item Qty', 'Item Name', 'Item Price', 'Item SKU', 'Location', 'Device ID', 'Item Discount', 'Tax 1 Name', 'Tax 1 Value', 'Tax 2 Name', 'Tax 2 Value']\n"
     ]
    }
   ],
   "source": [
    "# Recount numbers of columns\n",
    "# Print number of columns in use, and print in list form\n",
    "col_to_list = UV_Order_History_df.columns.tolist()\n",
    "\n",
    "print(f\"Number of columns: {len(UV_Order_History_df.columns.tolist())}\")\n",
    "print(col_to_list)"
   ]
  },
  {
   "cell_type": "code",
   "execution_count": 9,
   "id": "58e6eeb3-fd13-4cd4-8f1e-64d46f014974",
   "metadata": {},
   "outputs": [
    {
     "data": {
      "text/plain": [
       "55652"
      ]
     },
     "execution_count": 9,
     "metadata": {},
     "output_type": "execute_result"
    }
   ],
   "source": [
    "# Count number of rows where 'Location' is NaN\n",
    "UV_Order_History_df['Location'].isna().sum()\n",
    "# 54,161 rows where 'Location' is blank "
   ]
  },
  {
   "cell_type": "code",
   "execution_count": null,
   "id": "ebfce6c4-da96-49c4-a574-364087fa180b",
   "metadata": {},
   "outputs": [],
   "source": [
    "# Propogate `Location` value across all rows that share the same `Order Number`, so we know for certain which location sold\n",
    "# which item\n",
    "\n",
    "# Using both ffill().bfill() ensures that regardless of where the non-null value is within the group (top, middle, or bottom),\n",
    "# all NaN values in that group will be filled.\n",
    "\n",
    "UV_Order_History_df['Location'] = UV_Order_History_df.groupby('Order Number')['Location'].transform(lambda x: x.ffill().bfill())\n",
    "# UV_Order_History_df = UV_Order_History_df.infer_objects(copy=False)\n",
    "\n",
    "# UV_Order_History_df"
   ]
  },
  {
   "cell_type": "code",
   "execution_count": null,
   "id": "3dab3e4c-345b-486d-9111-972cf6754b47",
   "metadata": {},
   "outputs": [],
   "source": [
    "# Recount the number of rows where 'Location' is NaN\n",
    "UV_Order_History_df['Location'].isna().sum()"
   ]
  },
  {
   "cell_type": "code",
   "execution_count": null,
   "id": "1b63b653-117e-455f-9543-47aff5f2ac68",
   "metadata": {},
   "outputs": [],
   "source": [
    "# Sort 'Item Name' column values in alphabetical order\n",
    "sorted_items = sorted(UV_Order_History_df['Item Name'].unique())"
   ]
  },
  {
   "cell_type": "code",
   "execution_count": null,
   "id": "946f386c-e798-4666-aaab-c0c7cd4b263a",
   "metadata": {},
   "outputs": [],
   "source": [
    "# Identify all flight related Item Names\n",
    "\n",
    "flight_items = [item for item in sorted_items if 'flight' in item.lower()]\n",
    "# verbose version:\n",
    "# flight_items = []\n",
    "# for item in sorted_items:\n",
    "#         if 'flight' in item.lower():\n",
    "#             flight_items.append(item)\n",
    "\n",
    "flight_items"
   ]
  },
  {
   "cell_type": "code",
   "execution_count": null,
   "id": "83124820-3690-4d48-a014-ca6af58b6308",
   "metadata": {},
   "outputs": [],
   "source": [
    "# Identify all glass of wine related Item Names\n",
    "\n",
    "glass_items = [item for item in sorted_items if 'glass' in item.lower()]\n",
    "# verbose version:\n",
    "# glass_items = []\n",
    "# for item in sorted_items:\n",
    "#         if 'glass' in item.lower():\n",
    "#             glass_items.append(item)\n",
    "glass_items"
   ]
  },
  {
   "cell_type": "code",
   "execution_count": null,
   "id": "b2e2721d-b53b-4733-8437-e5a8f18afa5c",
   "metadata": {},
   "outputs": [],
   "source": [
    "# Identify all wine tasting related Item Name\n",
    "\n",
    "tasting_items = [item for item in sorted_items if 'tasting' in item.lower()]\n",
    "# verbose version:\n",
    "# tasting_items = []\n",
    "# for item in sorted_items:\n",
    "#         if 'tasting' in item.lower():\n",
    "#             tasting_items.append(item)\n",
    "tasting_items"
   ]
  },
  {
   "cell_type": "code",
   "execution_count": null,
   "id": "2c0d594f-d03f-4b5c-80c1-2461c3b5293a",
   "metadata": {},
   "outputs": [],
   "source": [
    "# Normalize all names to lowercase for consistent comparison\n",
    "flights_set = set([\n",
    "    'Wine Tastings - Flight / 90 m',\n",
    "    'Wine Tastings - NJ Flight / 90 m',\n",
    "    'wine tastings - PA Flight / 90 m',\n",
    "])\n",
    "\n",
    "glasses_set = set([\n",
    "    'Glass of Wine - Glass of Wine - $14',\n",
    "    'Glass of Wine - Glass of Wine - $15',\n",
    "    'Glass of Wine - Glass of Wine - $8',\n",
    "    'Glass of Wine - Glass of Wine- $10',\n",
    "    'Glass of Wine - Glass of Wine- $11',\n",
    "    'Glass of Wine - Glass of Wine- $12',\n",
    "    'Glass of Wine - Glass of Wine- $9',\n",
    "    'Glass of Wine - Glass of Wine-$8',\n",
    "    'Glass of Wine - Glass of Wine-7'\n",
    "])\n",
    "\n",
    "tastings_set = set([\n",
    "    '$10 Reserve Tasting',\n",
    "    '$5 Tasting',\n",
    "    '8+ group tasting fee',\n",
    "    'Additional tastings',\n",
    "    'Comp Tasting',\n",
    "    'Group Tasting',\n",
    "    'Group Tasting Fee',\n",
    "    'Tasting',\n",
    "    'Wine Tasting - 90 m',\n",
    "    'Wine Tasting - 90 minutes',\n",
    "    'Wine Tastings - BB Tasting / 90m',\n",
    "    'Wine Tastings - Group Tasting / 90 m',\n",
    "    'Wine Tastings - PA Tasting',\n",
    "    'Wine Tastings - PA Tasting / 90 m',\n",
    "    'Wine Tastings - Tasting $10',\n",
    "    'Wine Tastings - Tasting / 90 m',\n",
    "    ])"
   ]
  },
  {
   "cell_type": "code",
   "execution_count": null,
   "id": "8d068b7a-39fd-48b8-9a65-ef8180c71934",
   "metadata": {},
   "outputs": [],
   "source": [
    "# Handles non-string items by converting everything to str first.\n",
    "# Useful if tastings_set contained non-str types.\n",
    "\n",
    "flights_set = set(map(lambda x: str(x).strip().lower(), flights_set))\n",
    "glasses_set = set(map(lambda x: str(x).strip().lower(), glasses_set))\n",
    "tastings_set = set(map(lambda x: str(x).strip().lower(), tastings_set))\n",
    "\n",
    "# Alternate approach if we know all items are strings\n",
    "# flights_set = {s.lower().strip() for s in flights_set}\n",
    "# glasses_set = {s.lower().strip() for s in glasses_set}\n",
    "# tastings_set = {s.lower().strip() for s in tastings_set}"
   ]
  },
  {
   "cell_type": "code",
   "execution_count": null,
   "id": "c024ffb9-fcc5-4532-a768-668e9582b888",
   "metadata": {},
   "outputs": [],
   "source": [
    "flights_set"
   ]
  },
  {
   "cell_type": "code",
   "execution_count": null,
   "id": "9e7a0bf5-9328-4d1a-9d6c-c047f3ce0ebf",
   "metadata": {},
   "outputs": [],
   "source": [
    "glasses_set"
   ]
  },
  {
   "cell_type": "code",
   "execution_count": null,
   "id": "935b013d-f337-425c-a282-6bd7d9545522",
   "metadata": {},
   "outputs": [],
   "source": [
    "tastings_set"
   ]
  },
  {
   "cell_type": "code",
   "execution_count": null,
   "id": "0a7b6bf1-0fd6-4e76-a919-a57ed618a80f",
   "metadata": {},
   "outputs": [],
   "source": [
    "# Normalize 'Item Name' using .strip().lower() and check if it's in one of the sets\n",
    "import numpy as np\n",
    "def categorize_item(name):\n",
    "    name_normalized = str(name).strip().lower()\n",
    "    if name_normalized in flights_set:\n",
    "        return 'Flight'\n",
    "    elif name_normalized in glasses_set:\n",
    "        return 'Glass'\n",
    "    elif name_normalized in tastings_set:\n",
    "        return 'Tasting'\n",
    "    else:\n",
    "        return np.nan\n",
    "        \n",
    "UV_Order_History_df['Item Category'] = UV_Order_History_df['Item Name'].apply(categorize_item)"
   ]
  },
  {
   "cell_type": "code",
   "execution_count": null,
   "id": "8b5c0ea9-b63c-431f-acec-ab36c6bbb0ce",
   "metadata": {},
   "outputs": [],
   "source": [
    "# Redefine the DataFrame with the added 'Item Category' column\n",
    "UV_Order_History_df = UV_Order_History_df[[\n",
    "    'Order Number', 'Paid At', 'Fulfilled At', 'Subtotal', 'Shipping', 'Taxes', 'Total', 'Discount Code',\n",
    "    'Discount Amount', 'Item Qty', 'Item Name', 'Item Category', 'Item Price', 'Item SKU', 'Location',\n",
    "    'Device ID', 'Item Discount', 'Tax 1 Name', 'Tax 1 Value', 'Tax 2 Name', 'Tax 2 Value']]\n",
    "UV_Order_History_df"
   ]
  },
  {
   "cell_type": "code",
   "execution_count": null,
   "id": "ea8be1c8-7b27-4390-b105-3c44daeeddb3",
   "metadata": {},
   "outputs": [],
   "source": [
    "#Check that rows correctly populate for Item Category of 'Flight'\n",
    "UV_Order_History_df.loc[(UV_Order_History_df['Item Category'] == 'Flight')]"
   ]
  },
  {
   "cell_type": "code",
   "execution_count": null,
   "id": "e612b539-641d-4a14-ae51-d4c8277abe94",
   "metadata": {},
   "outputs": [],
   "source": [
    "#Check that rows correctly populate for Item Category of 'Tasting'\n",
    "UV_Order_History_df.loc[(UV_Order_History_df['Item Category'] == 'Tasting')]"
   ]
  },
  {
   "cell_type": "code",
   "execution_count": null,
   "id": "fb286157-4e0c-42c7-a2c7-51d0dc7a8d03",
   "metadata": {},
   "outputs": [],
   "source": [
    "# UV_Order_History_df.to_csv('Output_Files/Function_Categorize_Item_Applied.csv', index=False)"
   ]
  },
  {
   "cell_type": "code",
   "execution_count": null,
   "id": "6b7a3fcd-2ff7-4a6c-a7bc-6eded4b35910",
   "metadata": {},
   "outputs": [],
   "source": [
    "# Check for how many wine flights sold but Location column might still be blank\n",
    "\n",
    "flights_blank_location = UV_Order_History_df.loc[\n",
    "    (UV_Order_History_df['Location'].isna()) &\n",
    "    (UV_Order_History_df['Item Name'].str.lower().str.strip().isin(flights_set))]\n",
    "flights_blank_location"
   ]
  },
  {
   "cell_type": "code",
   "execution_count": null,
   "id": "a051b1c2-2a98-4aa7-8c0b-2a90f5187ba3",
   "metadata": {},
   "outputs": [],
   "source": [
    "# Check for how many glasses of wine sold but Location column might still be blank\n",
    "\n",
    "glasses_blank_location = UV_Order_History_df.loc[\n",
    "    (UV_Order_History_df['Location'].isna()) &\n",
    "    (UV_Order_History_df['Item Name'].str.lower().str.strip().isin(glasses_set))]\n",
    "glasses_blank_location"
   ]
  },
  {
   "cell_type": "code",
   "execution_count": null,
   "id": "b53551f5-fa62-4345-832f-01ad0481ce4c",
   "metadata": {},
   "outputs": [],
   "source": [
    "# Check for how many wine tastings were sold but the location column is still blank\n",
    "\n",
    "tastings_blank_location = UV_Order_History_df.loc[\n",
    "    (UV_Order_History_df['Location'].isna()) &\n",
    "    (UV_Order_History_df['Item Name'].str.lower().str.strip().isin(tastings_set))]\n",
    "tastings_blank_location"
   ]
  },
  {
   "cell_type": "code",
   "execution_count": null,
   "id": "627db7b1-d920-4596-b81d-4fa6cd8e1183",
   "metadata": {},
   "outputs": [],
   "source": [
    "# Get the effective number of rows from above cell by retrieving the .shape attribute \n",
    "count = UV_Order_History_df.loc[\n",
    "    (UV_Order_History_df['Location'].isna()) &\n",
    "    (UV_Order_History_df['Item Name'].str.lower().str.strip().isin(tastings_set))].shape[0]\n",
    "\n",
    "print(f\"Number of rows: {count}\")"
   ]
  },
  {
   "cell_type": "code",
   "execution_count": null,
   "id": "3c40f49f-79cd-4242-9197-63c5612990c9",
   "metadata": {},
   "outputs": [],
   "source": [
    "# Sort 'Tax 1 Name' column in alphabetical order\n",
    "# Since NaN values are present, sorted() will raise an error \"TypeError: '<' not supported between instances of 'float' and 'str'\"\n",
    "# Therefore, include 'if' statement to handle NaN values\n",
    "\n",
    "Tax1Name_sorted = sorted(\n",
    "    [x for x in UV_Order_History_df['Tax 1 Name'].unique() if pd.notna(x)]\n",
    ")\n",
    "Tax1Name_sorted"
   ]
  },
  {
   "cell_type": "code",
   "execution_count": null,
   "id": "d6dccdd4-e343-4344-a7fa-d2c1178a7ff0",
   "metadata": {},
   "outputs": [],
   "source": [
    "# For Locations still blank, we can gather where the sale occurred based on the sales tax collected\n",
    "\n",
    "# Create filter masks (boolean values of True or False aligned with the rows in our DataFrame,\n",
    "# used to identify which rows meet a certain criteria)\n",
    "glasses_mask = (\n",
    "    UV_Order_History_df['Location'].isna() &\n",
    "    UV_Order_History_df['Item Name'].str.lower().str.strip().isin(glasses_set)\n",
    ")\n",
    "\n",
    "tastings_mask = (\n",
    "    UV_Order_History_df['Location'].isna() &\n",
    "    UV_Order_History_df['Item Name'].str.lower().str.strip().isin(tastings_set)\n",
    ")\n",
    "\n",
    "tax_to_location_map = {\n",
    "    'NJ State Tax 6.625%': 'Unionville Vineyards',\n",
    "    'NJ State Tax 6.63%': 'Unionville Vineyards',\n",
    "    'New Jersey State Tax 6.625%': 'Unionville Vineyards',\n",
    "    'PA State Tax 6%': 'Ferry Market',\n",
    "    'Pennsylvania State Tax 6%': 'Ferry Market'\n",
    "}\n",
    "\n",
    "# Below, we're saying: For all row locations where a condition (mask) is True, set the 'Location' value\n",
    "# using a mapping based on the value we see in 'Tax 1 Name' within these same exact rows (where same condition (mask) is True.\n",
    "# Finally, for all row locations matching this condition where 'Tax 1 Name' was blank (NaN),\n",
    "# fill its 'Location' cell value with 'Unionville Vineyards'\n",
    "\n",
    "\n",
    "# Apply the mapping for wine glasses rows based on 'Tax 1 Name'\n",
    "UV_Order_History_df.loc[glasses_mask, 'Location'] = (\n",
    "    UV_Order_History_df.loc[glasses_mask, 'Tax 1 Name']\n",
    "    .map(tax_to_location_map).fillna('Unionville Vineyards')\n",
    ")\n",
    "\n",
    "# Apply the mapping for wine tastings rows based on 'Tax 1 Name'\n",
    "UV_Order_History_df.loc[tastings_mask, 'Location'] = (\n",
    "    UV_Order_History_df.loc[tastings_mask, 'Tax 1 Name']\n",
    "    .map(tax_to_location_map).fillna('Unionville Vineyards')\n",
    ")"
   ]
  },
  {
   "cell_type": "code",
   "execution_count": null,
   "id": "2ff02028-b294-4b62-be40-f9207afb2971",
   "metadata": {},
   "outputs": [],
   "source": [
    "# Check if any 'wine tastings' rows did not have 'Location' filled. The expectation is for no rows to populate.\n",
    "\n",
    "UV_Order_History_df.loc[tastings_mask & UV_Order_History_df['Location'].isna()]"
   ]
  },
  {
   "cell_type": "code",
   "execution_count": null,
   "id": "44de9db0-0dba-4d52-adad-3624284ca18e",
   "metadata": {},
   "outputs": [],
   "source": [
    "# Confirm if any 'wine glasses' rows that did not have 'Location' filled. The expectation is for no rows to populate.\n",
    "\n",
    "UV_Order_History_df.loc[glasses_mask & UV_Order_History_df['Location'].isna()]"
   ]
  },
  {
   "cell_type": "code",
   "execution_count": null,
   "id": "88565e5e-efcb-4338-89de-2ea646f5d30a",
   "metadata": {},
   "outputs": [],
   "source": [
    "# Get value counts on 'Location' column\n",
    "UV_Order_History_df['Location'].value_counts()"
   ]
  },
  {
   "cell_type": "code",
   "execution_count": null,
   "id": "318d76c7-9e51-4519-ad33-1e7824cfc0a6",
   "metadata": {},
   "outputs": [],
   "source": [
    "# Reassign 'Tasting Room' Location to be 'Unionville Vineyards'\n",
    "\n",
    "UV_Order_History_df.loc[\n",
    "    UV_Order_History_df['Location'].str.lower() == 'tasting room',\n",
    "    'Location'\n",
    "] = 'Unionville Vineyards'"
   ]
  },
  {
   "cell_type": "code",
   "execution_count": null,
   "id": "ee5b9f8b-512a-414f-a8ba-3409b684bca7",
   "metadata": {},
   "outputs": [],
   "source": [
    "# Confirm all 3,528 value counts for 'Tasting Room' are now reflected in 'Unionville Vineyards'\n",
    "UV_Order_History_df['Location'].value_counts()"
   ]
  },
  {
   "cell_type": "code",
   "execution_count": null,
   "id": "9e3371f7-cede-4e33-9064-2e947586284a",
   "metadata": {
    "scrolled": true
   },
   "outputs": [],
   "source": [
    "# NOTE: Was previously seeing 'SettingWithCopyWarning:\n",
    "    # \"A value is trying to be set on a copy of a slice from a DataFrame.\n",
    "    # Try using .loc[row_indexer,col_indexer] = value instead'\n",
    "\n",
    "# When creating a view(slice) of the original UV_Order_History_df...\n",
    "    # When modifying a column in-place (UV_Order_History_df['Paid At'] = ...),\n",
    "    # pandas warns that the assignment might not affect the original DataFrame in a predictable way.\n",
    "    # Therefore, make an explicit copy of the DataFrame when slicing\n",
    "\n",
    "# Redefine UV_Order_History_df to include rows for only Ferry Market, and Unionville Vineyards Tasting Room\n",
    "relevant_locations = ['Ferry Market', 'Unionville Vineyards']\n",
    "UV_Order_History_df = UV_Order_History_df.loc[UV_Order_History_df['Location'].isin(relevant_locations)].copy()\n",
    "UV_Order_History_df"
   ]
  },
  {
   "cell_type": "code",
   "execution_count": null,
   "id": "faf075be-3369-4884-9813-ff5eb27304b8",
   "metadata": {},
   "outputs": [],
   "source": [
    "UV_Order_History_df.to_csv('Output_Files/Relevant_Locations.csv', index=False)"
   ]
  },
  {
   "cell_type": "markdown",
   "id": "be169ee4-f23f-4c23-9a65-515a070bf5ac",
   "metadata": {},
   "source": [
    "# Begin Datetime Code Transformation"
   ]
  },
  {
   "cell_type": "code",
   "execution_count": null,
   "id": "e5bc93dc-9e3a-4b9f-9274-933d6b2bfd31",
   "metadata": {},
   "outputs": [],
   "source": [
    "UV_Order_History_df['Paid At'].isna().sum()"
   ]
  },
  {
   "cell_type": "code",
   "execution_count": null,
   "id": "652a51d1-bf1b-434e-8d28-d269fdb68767",
   "metadata": {},
   "outputs": [],
   "source": [
    "# Ensure 'Paid At' column includes dates for all rows, otherwise many Item Categories will be missed in future\n",
    "# aggregations\n",
    "\n",
    "# Step 1: Replace blank or missing 'Paid At' with 'Fulfilled At' (only where 'Paid At' is missing)\n",
    "UV_Order_History_df['Paid At'] = UV_Order_History_df['Paid At'].fillna(UV_Order_History_df['Fulfilled At'])"
   ]
  },
  {
   "cell_type": "code",
   "execution_count": null,
   "id": "33d5f31e-2e0b-4ac9-afe2-313732852b96",
   "metadata": {},
   "outputs": [],
   "source": [
    "UV_Order_History_df['Paid At'].isna().sum()"
   ]
  },
  {
   "cell_type": "code",
   "execution_count": null,
   "id": "44ea73bb-82c0-4291-932d-7f0027b0131f",
   "metadata": {},
   "outputs": [],
   "source": [
    "# Step 2: Forward-fill and back-fill 'Paid At' within each 'Order Number' group\n",
    "UV_Order_History_df['Paid At'] = UV_Order_History_df.groupby('Order Number')['Paid At'].transform(lambda x: x.ffill().bfill())"
   ]
  },
  {
   "cell_type": "code",
   "execution_count": null,
   "id": "cee8413b-9478-4f63-8edb-9c9badabb776",
   "metadata": {},
   "outputs": [],
   "source": [
    "UV_Order_History_df['Paid At'].isna().sum()"
   ]
  },
  {
   "cell_type": "code",
   "execution_count": null,
   "id": "0c44aa7c-fb4b-48f0-af65-b0b260ea7b56",
   "metadata": {},
   "outputs": [],
   "source": [
    "UV_Order_History_df.loc[UV_Order_History_df['Paid At'].isna()]\n",
    "[['Order Number', 'Paid At', 'Item Qty', 'Item Category', 'Location', 'Tax 1 Name']]"
   ]
  },
  {
   "cell_type": "code",
   "execution_count": null,
   "id": "341d6049-f749-4e47-a122-e578f0369933",
   "metadata": {},
   "outputs": [],
   "source": [
    "# Fill missing 'Paid At' cell values based on the date of an Order Number date before/after it\n",
    "\n",
    "import numpy as np\n",
    "filled_dates = UV_Order_History_df['Paid At'].ffill().bfill()\n",
    "\n",
    "# np.where(condition, value_if_true, value_if_false)\n",
    "UV_Order_History_df['Paid At'] = np.where(\n",
    "    UV_Order_History_df['Paid At'].isna(),\n",
    "    filled_dates,\n",
    "    UV_Order_History_df['Paid At']\n",
    ")"
   ]
  },
  {
   "cell_type": "code",
   "execution_count": null,
   "id": "129b4159-b095-4a31-a2f4-6407f1489848",
   "metadata": {},
   "outputs": [],
   "source": [
    "UV_Order_History_df[UV_Order_History_df['Order Number'] == '#119527']"
   ]
  },
  {
   "cell_type": "code",
   "execution_count": null,
   "id": "c1f7b22a-45eb-47c4-a11a-cede3736b954",
   "metadata": {},
   "outputs": [],
   "source": [
    "# Check how 'Paid At' column values print for row index 0:11, column index 0:3\n",
    "UV_Order_History_df.iloc[0:10,0:3]"
   ]
  },
  {
   "cell_type": "code",
   "execution_count": null,
   "id": "11b77a9f-9256-47f4-851c-2837c1c3b695",
   "metadata": {},
   "outputs": [],
   "source": [
    "UV_Order_History_df.loc[UV_Order_History_df['Paid At'].isna()]"
   ]
  },
  {
   "cell_type": "code",
   "execution_count": null,
   "id": "21c7e072-0f73-4bb4-bd75-3dc1c6ba69ae",
   "metadata": {},
   "outputs": [],
   "source": [
    "# Check the dtype of 'Paid At' column to see whether it is already datetime type\n",
    "print(f\"Datatype: {UV_Order_History_df['Paid At'].dtype}\")"
   ]
  },
  {
   "cell_type": "code",
   "execution_count": null,
   "id": "d1024a03-2c4b-407b-83f0-b86b7ef1044d",
   "metadata": {},
   "outputs": [],
   "source": [
    "# View datetime string format for parsing to datetime format\n",
    "UV_Order_History_df.head(5)"
   ]
  },
  {
   "cell_type": "code",
   "execution_count": null,
   "id": "c99f2d02-2583-44d9-b335-5d2d06df4496",
   "metadata": {},
   "outputs": [],
   "source": [
    "# View datetime string format for parsing to datetime format\n",
    "UV_Order_History_df.tail(5)"
   ]
  },
  {
   "cell_type": "markdown",
   "id": "8f034d5d-9d8e-4ea1-a519-65c0c2431177",
   "metadata": {},
   "source": [
    "##### 'Paid At' column contains multiple datetime formats, requiring handling formats conditionally:\n",
    "###### 1. Detect the format of each row.\n",
    "###### 2. Parse them accordingly\n",
    "###### 3. Combine results into one cleaned datetime column"
   ]
  },
  {
   "cell_type": "code",
   "execution_count": null,
   "id": "76a64a91-842d-4e85-87b4-58a4bb12a1e7",
   "metadata": {},
   "outputs": [],
   "source": [
    "UV_Order_History_df.iloc[0,1]"
   ]
  },
  {
   "cell_type": "code",
   "execution_count": null,
   "id": "9b2f81eb-2ba6-435b-8f84-beef674e26ee",
   "metadata": {},
   "outputs": [],
   "source": [
    "# Identify and normalize all datetime strings with string format '%Y-%m-%d %H:%M:%S %z'\n",
    "# Some datetime strings are of format '%m/%d/%y %H:%M' where others are already '%Y-%m-%d %H:%M:%S %z'\n",
    "\n",
    "# Step 1: Make a working copy\n",
    "col = UV_Order_History_df['Paid At'].astype(str)\n",
    "\n",
    "# Step 2: Create masks for each format\n",
    "mask_mdy = col.str.match(\n",
    "    r'^\\d{1,2}/\\d{1,2}/\\d{2} \\d{1,2}:\\d{2}$') # '6/30/25 16:32'\n",
    "mask_ymd_tz = col.str.match(\n",
    "    r'^\\d{4}-\\d{2}-\\d{2} \\d{2}:\\d{2}:\\d{2} [+-]\\d{4}$') # 2020-02-09 18:35:33 -0500\n",
    "\n",
    "# Step 3: Parse short format ('6/30/25 16:32'), localize, convert to UTC\n",
    "parsed_short = pd.to_datetime(\n",
    "    col[mask_mdy],\n",
    "    format='%m/%d/%y %H:%M',\n",
    "    errors='coerce'\n",
    ").dt.tz_localize('America/New_York').dt.tz_convert('UTC')\n",
    "\n",
    "# Step 4: Parse long format directly (has timezone info)\n",
    "parsed_long = pd.to_datetime(\n",
    "    col[mask_ymd_tz],\n",
    "    errors='coerce',\n",
    "utc=True\n",
    ").dt.tz_convert('UTC')\n",
    "\n",
    "# Condensed below into one line in Step 4\n",
    "# parsed_long_raw = pd.to_datetime(\n",
    "#     col[mask_ymd_tz],\n",
    "#     errors='coerce',\n",
    "# utc=True\n",
    "# )\n",
    "# parsed_long = parsed_long_raw.dt.tz_convert('UTC')\n",
    "\n",
    "# Step 5: Empty Series to store unified result\n",
    "combined = pd.Series(index=col.index, dtype='datetime64[ns, UTC]')\n",
    "\n",
    "# Step 6: Combine results\n",
    "combined.loc[mask_mdy] = parsed_short\n",
    "combined.loc[mask_ymd_tz] = parsed_long\n",
    "\n",
    "# Step 7: Assign to DataFrame\n",
    "UV_Order_History_df['Paid At'] = combined"
   ]
  },
  {
   "cell_type": "code",
   "execution_count": null,
   "id": "8677d321-dff6-4e42-9511-a8980eb4d8a9",
   "metadata": {},
   "outputs": [],
   "source": [
    "print(parsed_short.dt.tz)"
   ]
  },
  {
   "cell_type": "code",
   "execution_count": null,
   "id": "bc83c9e0-e484-432f-b516-b4696603acc4",
   "metadata": {},
   "outputs": [],
   "source": [
    "print(parsed_long.dt.tz)"
   ]
  },
  {
   "cell_type": "code",
   "execution_count": null,
   "id": "0fc5616c-b978-4f32-a2d9-217079b49399",
   "metadata": {},
   "outputs": [],
   "source": [
    "print(f\"Datatype: {UV_Order_History_df['Paid At'].dtype}\")"
   ]
  },
  {
   "cell_type": "code",
   "execution_count": null,
   "id": "2e3c4871-018a-42db-8e53-082a0ce79a7c",
   "metadata": {},
   "outputs": [],
   "source": [
    "# See how the 'Paid At' column value prints out once again at row 0, column 1\n",
    "# Changed from '2'6/30/25 16:32 to ' Timestamp('2025-06-30 20:32:00+0000', tz='UTC' '\n",
    "UV_Order_History_df.iloc[0,1]"
   ]
  },
  {
   "cell_type": "code",
   "execution_count": null,
   "id": "0dbdbe1c-5984-4b86-87cf-dc299fc278d7",
   "metadata": {},
   "outputs": [],
   "source": [
    "# Split 'Paid At' column into Year, Date, and Time columns\n",
    "UV_Order_History_df['Year'] = UV_Order_History_df['Paid At'].dt.year.astype('Int64')\n",
    "UV_Order_History_df['Date'] = UV_Order_History_df['Paid At'].dt.date\n",
    "UV_Order_History_df['Time'] = UV_Order_History_df['Paid At'].dt.time"
   ]
  },
  {
   "cell_type": "code",
   "execution_count": null,
   "id": "16a0e0e5-3829-465a-a422-54d047076863",
   "metadata": {},
   "outputs": [],
   "source": [
    "# Redefine df to include Year, Date, and Time columns\n",
    "UV_Order_History_df = UV_Order_History_df[\n",
    "['Order Number', 'Paid At', 'Fulfilled At', 'Year', 'Date', 'Time', 'Subtotal', 'Shipping',\n",
    " 'Taxes', 'Total', 'Discount Code', 'Discount Amount', 'Item Qty', 'Item Name',\n",
    " 'Item Category', 'Item Price', 'Item SKU', 'Location', 'Device ID',\n",
    " 'Item Discount', 'Tax 1 Name', 'Tax 1 Value', 'Tax 2 Name','Tax 2 Value']\n",
    "]\n",
    "UV_Order_History_df.head()"
   ]
  },
  {
   "cell_type": "code",
   "execution_count": null,
   "id": "829854bb-0e2f-4378-9f20-fa197398476e",
   "metadata": {},
   "outputs": [],
   "source": [
    "print(f\"Datatype: {UV_Order_History_df['Year'].dtype}\")\n",
    "print(f\"Datatype: {UV_Order_History_df['Date'].dtype}\")\n",
    "print(f\"Datatype: {UV_Order_History_df['Time'].dtype}\")"
   ]
  },
  {
   "cell_type": "code",
   "execution_count": null,
   "id": "3bde2357-8105-48bd-8548-0e08cd9761a1",
   "metadata": {},
   "outputs": [],
   "source": [
    "# Define today's date outside of function\n",
    "today = pd.to_datetime('today').normalize()\n",
    "today"
   ]
  },
  {
   "cell_type": "code",
   "execution_count": null,
   "id": "4be7d559-0815-4762-bae0-f27f546cde89",
   "metadata": {},
   "outputs": [],
   "source": [
    "def filter_ytd_for_year(df, year):\n",
    "    df = df.copy()\n",
    "    df['Paid At'] = pd.to_datetime(df['Paid At'], errors = 'coerce', utc = True)\n",
    "    start = pd.Timestamp(year, 1, 1, tz = 'UTC')\n",
    "    end = pd.Timestamp(year, today.month, today.day, tz = 'UTC')\n",
    "    return df.loc[(df['Paid At'] >= start) & (df['Paid At'] <= end)]"
   ]
  },
  {
   "cell_type": "code",
   "execution_count": null,
   "id": "4b0cc2f0-54e1-443e-973a-0d64b25cf1db",
   "metadata": {},
   "outputs": [],
   "source": [
    "# Optional use function with Manual End Date input.\n",
    "# end_date_str must be in a parseable format (like 'YYYY-MM-DD').\n",
    "\n",
    "\n",
    "# def filter_ytd_for_year(df, year, end_date_str):\n",
    "#     df = df.copy()\n",
    "#     df['Paid At'] = pd.to_datetime(df['Paid At'], errors='coerce', utc=True)\n",
    "    \n",
    "#     start = pd.Timestamp(year, 1, 1, tz='UTC')\n",
    "#     end = pd.to_datetime(end_date_str).tz_localize('UTC')\n",
    "    \n",
    "#     return df.loc[(df['Paid At'] >= start) & (df['Paid At'] <= end)]"
   ]
  },
  {
   "cell_type": "code",
   "execution_count": null,
   "id": "6158e6ef-3051-451c-8d9a-0b48c2a38a42",
   "metadata": {},
   "outputs": [],
   "source": [
    "# First row of the 'Paid At' column should show <class 'pandas._libs.tslibs.timestamps.Timestamp'>\n",
    "print(type(UV_Order_History_df['Paid At'].iloc[0]))  "
   ]
  },
  {
   "cell_type": "code",
   "execution_count": null,
   "id": "3dafd180-ed22-4dea-9a89-0bdfa83744d0",
   "metadata": {},
   "outputs": [],
   "source": [
    "# Each of these df_20xx DataFrames will only contain rows \n",
    "# where the 'Paid At' date is between January 1 and 'today's' month/day of that year.\n",
    "# THIS IS IMPORTANT. You will NOT be seeing total quantities sold for the entire respective year.\n",
    "\n",
    "df_2025 = filter_ytd_for_year(UV_Order_History_df, 2025)\n",
    "df_2024 = filter_ytd_for_year(UV_Order_History_df, 2024)\n",
    "df_2023 = filter_ytd_for_year(UV_Order_History_df, 2023)\n",
    "df_2022 = filter_ytd_for_year(UV_Order_History_df, 2022)\n",
    "df_2021 = filter_ytd_for_year(UV_Order_History_df, 2021)"
   ]
  },
  {
   "cell_type": "code",
   "execution_count": null,
   "id": "0b7674bb-34d2-429b-a76b-67118363f3ea",
   "metadata": {},
   "outputs": [],
   "source": [
    "def filter_and_tag_year(df, year):\n",
    "    ytd = filter_ytd_for_year(df, year)\n",
    "    ytd['Year'] = year\n",
    "    return ytd"
   ]
  },
  {
   "cell_type": "code",
   "execution_count": null,
   "id": "01ba428c-d8e4-42cc-be59-d3d6f07e5e36",
   "metadata": {},
   "outputs": [],
   "source": [
    "# This gets a DataFrame comparing all our target years, specifically of the \n",
    "\n",
    "df_all_years = pd.concat([\n",
    "    filter_and_tag_year(UV_Order_History_df, y) for y in[2025, 2024, 2023, 2022, 2021]\n",
    "])\n",
    "df_all_years"
   ]
  },
  {
   "cell_type": "code",
   "execution_count": null,
   "id": "35d58414-df49-4551-a541-7d1f967b79f0",
   "metadata": {
    "scrolled": true
   },
   "outputs": [],
   "source": [
    "sales_summary_df = (\n",
    "    df_all_years.groupby(['Year', 'Location', 'Item Category'])\n",
    "    .agg({\n",
    "    'Item Qty': 'sum',\n",
    "    'Total': 'sum'\n",
    "    })\n",
    "    .reset_index()\n",
    "    .sort_values(by=['Year', 'Location', 'Item Category'], ascending = [False, False, True])\n",
    ")\n",
    "sales_summary_df"
   ]
  },
  {
   "cell_type": "code",
   "execution_count": null,
   "id": "59025227-6690-4c70-89b9-059492dbe0d3",
   "metadata": {},
   "outputs": [],
   "source": [
    "import matplotlib.pyplot as plt"
   ]
  },
  {
   "cell_type": "code",
   "execution_count": null,
   "id": "0982e208-855b-43ef-9ad9-dbfe627d6a40",
   "metadata": {},
   "outputs": [],
   "source": [
    "pivot_1 = sales_summary_df.pivot_table(\n",
    "    index='Item Category',\n",
    "    columns='Year',\n",
    "    values='Total',\n",
    "    aggfunc='sum',\n",
    "    fill_value=0\n",
    ")\n",
    "pivot_1"
   ]
  },
  {
   "cell_type": "code",
   "execution_count": null,
   "id": "d1d870c9-4777-4a2e-8a25-f7ad22a0707a",
   "metadata": {},
   "outputs": [],
   "source": [
    "# Plot YTD Sales by Item Category by Year, Locations Combined\n",
    "pivot_1.plot(kind='bar', figsize=(10, 6))\n",
    "plt.title('YTD Sales by Item Category and Year (Locations Combined)')\n",
    "plt.xlabel('Item Category')\n",
    "plt.ylabel('Total Sales')\n",
    "plt.xticks(rotation=45)\n",
    "plt.legend(title='Year')\n",
    "plt.tight_layout()\n",
    "plt.show()"
   ]
  },
  {
   "cell_type": "code",
   "execution_count": null,
   "id": "f55386d6-4020-4707-8fae-796e9e8227a1",
   "metadata": {},
   "outputs": [],
   "source": [
    "# Plot YTD Sales by Item Category and Year per Location\n",
    "locations = sales_summary_df['Location'].unique()\n",
    "\n",
    "for location in locations:\n",
    "    location_df = sales_summary_df.loc[sales_summary_df['Location'] == location]\n",
    "    print(location_df)\n",
    "    pivot_2 = location_df.pivot_table(\n",
    "        index='Item Category',\n",
    "        columns='Year',\n",
    "        values='Total',\n",
    "        aggfunc='sum',\n",
    "        fill_value=0\n",
    ")\n",
    "\n",
    "    pivot_2.plot(kind='bar', figsize=(10, 6))\n",
    "    plt.title(f'YTD Sales by Item Category and Year - {location}')\n",
    "    plt.xlabel('Item Category')\n",
    "    plt.ylabel('YTD Sales')\n",
    "    plt.xticks(rotation=45)\n",
    "    plt.legend(title='Year')\n",
    "    plt.tight_layout()\n",
    "    plt.show()"
   ]
  },
  {
   "cell_type": "code",
   "execution_count": null,
   "id": "60f6f310-8f14-4af4-a05d-93213e7e427f",
   "metadata": {},
   "outputs": [],
   "source": [
    "pivot_3 = sales_summary_df.pivot_table(\n",
    "    index='Item Category',\n",
    "    columns='Year',\n",
    "    values='Item Qty',\n",
    "    aggfunc='sum',\n",
    "    fill_value=0\n",
    ")\n",
    "pivot_3"
   ]
  },
  {
   "cell_type": "code",
   "execution_count": null,
   "id": "64965691-15ca-4a4d-8768-f1fa86301421",
   "metadata": {},
   "outputs": [],
   "source": [
    "# Plot YTD Quantities Sold by Item Category and Year, Locations Combined\n",
    "pivot_3.plot(kind='bar', figsize=(10, 6))\n",
    "plt.title('YTD Quantities Sold by Item Category and Year (Locations Combined)')\n",
    "plt.xlabel('Item Category')\n",
    "plt.ylabel('Quantity')\n",
    "plt.xticks(rotation=45)\n",
    "plt.legend(title='Year')\n",
    "plt.tight_layout()\n",
    "plt.show()"
   ]
  },
  {
   "cell_type": "code",
   "execution_count": null,
   "id": "e3d5a851-5438-49de-a555-d9a3dd4c5618",
   "metadata": {},
   "outputs": [],
   "source": [
    "# Plot YTD Quantities Sold by Item Category and Year per Location\n",
    "\n",
    "locations = sales_summary_df['Location'].unique()\n",
    "\n",
    "for location in locations:\n",
    "    location_df = sales_summary_df.loc[sales_summary_df['Location'] == location]\n",
    "    print(location_df)\n",
    "    pivot_4 = location_df.pivot_table(\n",
    "        index='Item Category',\n",
    "        columns='Year',\n",
    "        values='Item Qty',\n",
    "        aggfunc='sum',\n",
    "        fill_value=0\n",
    ")\n",
    "\n",
    "    pivot_4.plot(kind='bar', figsize=(10, 6))\n",
    "    plt.title(f'YTD Quantities Sold by Item Category and Year - {location}')\n",
    "    plt.xlabel('Item Category')\n",
    "    plt.ylabel('Quantity')\n",
    "    plt.xticks(rotation=45)\n",
    "    plt.legend(title='Year')\n",
    "    plt.tight_layout()\n",
    "    plt.show()"
   ]
  },
  {
   "cell_type": "code",
   "execution_count": null,
   "id": "f123fd2f-8dc3-46d6-94df-f992deaa4b92",
   "metadata": {},
   "outputs": [],
   "source": []
  }
 ],
 "metadata": {
  "kernelspec": {
   "display_name": "Python 3 (ipykernel)",
   "language": "python",
   "name": "python3"
  },
  "language_info": {
   "codemirror_mode": {
    "name": "ipython",
    "version": 3
   },
   "file_extension": ".py",
   "mimetype": "text/x-python",
   "name": "python",
   "nbconvert_exporter": "python",
   "pygments_lexer": "ipython3",
   "version": "3.12.4"
  }
 },
 "nbformat": 4,
 "nbformat_minor": 5
}
